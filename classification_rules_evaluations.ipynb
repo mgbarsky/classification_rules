{
 "cells": [
  {
   "cell_type": "markdown",
   "metadata": {},
   "source": [
    "Here we extract some useful rules from the Student evaluations dataset."
   ]
  },
  {
   "cell_type": "code",
   "execution_count": 4,
   "metadata": {},
   "outputs": [],
   "source": [
    "data_file = \"../data_sets/StudentEvaluations.csv\"\n",
    "\n",
    "import pandas as pd\n",
    "import numpy as np\n",
    "df = pd.read_csv(data_file)"
   ]
  },
  {
   "cell_type": "markdown",
   "metadata": {},
   "source": [
    "We will convert all attributes except age to categorical."
   ]
  },
  {
   "cell_type": "code",
   "execution_count": 5,
   "metadata": {},
   "outputs": [],
   "source": [
    "# Class size to bins\n",
    "bins = [0, 15, 30, 50, 100, np.inf]\n",
    "names = [ '<15', '15-30',  '30-50', '50-100', '100+']\n",
    "\n",
    "df['cls_students'] = pd.cut(df['cls_students'], bins, labels=names)\n",
    "\n",
    "# Beauty average to bins\n",
    "bins = [0, 3, 6, 9, np.inf]\n",
    "names = [ '<3', '3-6',  '6-9', '9+']\n",
    "\n",
    "df['bty_avg'] = pd.cut(df['bty_avg'], bins, labels=names)\n",
    "\n",
    "# Professor score to bins\n",
    "bins = [0, 2, 3, 4, 4.5, np.inf]\n",
    "names = [ '<2', '2-3',  '3-4', '4-4.5', '4.5+']\n",
    "\n",
    "df['prof_eval'] = pd.cut(df['prof_eval'], bins, labels=names)\n",
    "\n",
    "# Course score to class label\n",
    "bins = [0, 2, 3, 4, 4.5, np.inf]\n",
    "names = [ 'bad', 'fair',  'average', 'good', 'excellent']\n",
    "\n",
    "df['course_eval'] = pd.cut(df['course_eval'], bins, labels=names)"
   ]
  },
  {
   "cell_type": "markdown",
   "metadata": {},
   "source": [
    "If we are not using the rules for classification, we can process each class label separately."
   ]
  },
  {
   "cell_type": "code",
   "execution_count": 6,
   "metadata": {},
   "outputs": [
    {
     "name": "stdout",
     "output_type": "stream",
     "text": [
      "[good, average, fair, excellent]\n",
      "Categories (4, object): [fair < average < good < excellent]\n"
     ]
    }
   ],
   "source": [
    "columns_list = df.columns.to_numpy().tolist()\n",
    "\n",
    "class_labels = df[columns_list[-1]].unique()\n",
    "\n",
    "print(class_labels)"
   ]
  },
  {
   "cell_type": "code",
   "execution_count": 9,
   "metadata": {},
   "outputs": [
    {
     "name": "stdout",
     "output_type": "stream",
     "text": [
      "--- rules for class good ---\n",
      "If [prof_eval=4-4.5, age>=54, cls_level=upper, language=english, ethnicity=not minority] then good. Coverage:32, accuracy: 0.75\n",
      "If [prof_eval=4-4.5, cls_level=lower, age<50, ethnicity=not minority, language=english] then good. Coverage:31, accuracy: 0.6451612903225806\n",
      "If [prof_eval=4-4.5, cls_students=15-30, language=english, age>=37] then good. Coverage:31, accuracy: 0.6451612903225806\n",
      "--- rules for class average ---\n",
      "If [prof_eval=3-4, cls_students=50-100, age<62, language=english] then average. Coverage:31, accuracy: 0.967741935483871\n",
      "If [prof_eval=3-4, rank=tenured, cls_students=15-30, age>=40] then average. Coverage:30, accuracy: 0.9666666666666667\n",
      "If [prof_eval=3-4, gender=female, age<57, language=english] then average. Coverage:32, accuracy: 0.9375\n",
      "If [prof_eval=3-4, bty_avg=3-6, ethnicity=not minority, age<63] then average. Coverage:32, accuracy: 0.9375\n",
      "If [prof_eval=3-4, age>=29] then average. Coverage:32, accuracy: 0.75\n",
      "If [prof_eval=4-4.5, cls_students=30-50, cls_level=upper, language=english, ethnicity=not minority, age>=33] then average. Coverage:30, accuracy: 0.6333333333333333\n",
      "--- rules for class fair ---\n",
      "--- rules for class excellent ---\n",
      "If [prof_eval=4.5+, rank=teaching, age>=39, language=english] then excellent. Coverage:34, accuracy: 0.9117647058823529\n"
     ]
    }
   ],
   "source": [
    "from rule_learner import *\n",
    "from operator import attrgetter\n",
    "\n",
    "for class_label in class_labels:    \n",
    "    rules = learn_rules(columns_list, df, [class_label], 30, 0.6)\n",
    "    print()\n",
    "    print(\"--- rules for class %s ---\" % (class_label))\n",
    "\n",
    "    # sort rules by accuracy descending\n",
    "    rules.sort(key=attrgetter('accuracy', 'coverage'), reverse=True)\n",
    "    for rule in rules[:20]:\n",
    "        print(rule)"
   ]
  },
  {
   "cell_type": "code",
   "execution_count": null,
   "metadata": {},
   "outputs": [],
   "source": []
  }
 ],
 "metadata": {
  "kernelspec": {
   "display_name": "Python 3",
   "language": "python",
   "name": "python3"
  },
  "language_info": {
   "codemirror_mode": {
    "name": "ipython",
    "version": 3
   },
   "file_extension": ".py",
   "mimetype": "text/x-python",
   "name": "python",
   "nbconvert_exporter": "python",
   "pygments_lexer": "ipython3",
   "version": "3.8.3"
  }
 },
 "nbformat": 4,
 "nbformat_minor": 4
}
