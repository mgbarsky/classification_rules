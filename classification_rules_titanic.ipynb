{
 "cells": [
  {
   "cell_type": "code",
   "execution_count": 1,
   "metadata": {},
   "outputs": [],
   "source": [
    "from rule_learner import *"
   ]
  },
  {
   "cell_type": "code",
   "execution_count": 2,
   "metadata": {},
   "outputs": [
    {
     "name": "stdout",
     "output_type": "stream",
     "text": [
      "Total rows 714\n",
      "Columns: ['Pclass', 'Sex', 'Age', 'Survived']\n",
      "If [Sex=female, Pclass<2, Age>=26.0] then 1. Coverage:57, accuracy: 0.9824561403508771\n",
      "If [Sex=male, Pclass>=2, Age>=32.5] then 0. Coverage:42, accuracy: 0.9761904761904762\n",
      "If [Sex=female, Pclass<3, Age<24.0] then 1. Coverage:37, accuracy: 0.972972972972973\n",
      "If [Sex=female, Pclass<3, Age>=28.0] then 1. Coverage:41, accuracy: 0.926829268292683\n",
      "If [Age>=39.0, Pclass>=2, Sex=male] then 0. Coverage:48, accuracy: 0.9166666666666666\n",
      "If [Age>=54.0, Sex=male, Pclass>=1] then 0. Coverage:37, accuracy: 0.8918918918918919\n",
      "If [Age<24.0, Sex=male, Pclass>=2] then 0. Coverage:115, accuracy: 0.8782608695652174\n",
      "If [Sex=male, Pclass>=2, Age<27.0] then 0. Coverage:41, accuracy: 0.8780487804878049\n",
      "If [Age>=28.0, Pclass>=2, Sex=male] then 0. Coverage:62, accuracy: 0.8064516129032258\n",
      "If [Age<6.0, Pclass>=2] then 1. Coverage:41, accuracy: 0.7073170731707317\n"
     ]
    }
   ],
   "source": [
    "data_file = \"../data_sets/titanic.csv\"\n",
    "data = pd.read_csv(data_file)\n",
    "\n",
    "# take a subset of attributes\n",
    "data = data[['Pclass', 'Sex', 'Age', 'Survived']]\n",
    "\n",
    "# drop all columns and rows with missing values\n",
    "data = data.dropna(how=\"any\")\n",
    "print(\"Total rows\", len(data))\n",
    "\n",
    "column_list = data.columns.to_numpy().tolist()\n",
    "print(\"Columns:\", column_list)\n",
    "\n",
    "# we can set different accuracy thresholds\n",
    "# here we can reorder class labels - to first learn the rules with class label \"survived\".\n",
    "rules = learn_rules(column_list, data, [1, 0], 30, 0.6)\n",
    "\n",
    "from operator import attrgetter\n",
    "# sort rules by accuracy descending\n",
    "rules.sort(key=attrgetter('accuracy', 'coverage'), reverse=True)\n",
    "for rule in rules[:10]:\n",
    "    print(rule)"
   ]
  }
 ],
 "metadata": {
  "kernelspec": {
   "display_name": "Python 3",
   "language": "python",
   "name": "python3"
  },
  "language_info": {
   "codemirror_mode": {
    "name": "ipython",
    "version": 3
   },
   "file_extension": ".py",
   "mimetype": "text/x-python",
   "name": "python",
   "nbconvert_exporter": "python",
   "pygments_lexer": "ipython3",
   "version": "3.8.3"
  }
 },
 "nbformat": 4,
 "nbformat_minor": 4
}
