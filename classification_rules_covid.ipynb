{
 "cells": [
  {
   "cell_type": "code",
   "execution_count": 1,
   "metadata": {},
   "outputs": [],
   "source": [
    "from rule_learner import *"
   ]
  },
  {
   "cell_type": "code",
   "execution_count": 2,
   "metadata": {},
   "outputs": [
    {
     "name": "stdout",
     "output_type": "stream",
     "text": [
      "Columns: Index(['sex', 'age', 'diabetes', 'copd', 'asthma', 'imm_supr', 'hypertension',\n",
      "       'cardiovascular', 'obesity', 'renal_chronic', 'tobacco', 'outcome'],\n",
      "      dtype='object')\n"
     ]
    }
   ],
   "source": [
    "data_file = \"../data_sets/covid_categorical_good.csv\"\n",
    "\n",
    "data = pd.read_csv(data_file)\n",
    "data = data.dropna(how=\"any\")\n",
    "print(\"Columns:\",data.columns)"
   ]
  },
  {
   "cell_type": "markdown",
   "metadata": {},
   "source": [
    "First, let's try without age (Numeric attributes are expensive)."
   ]
  },
  {
   "cell_type": "code",
   "execution_count": 3,
   "metadata": {},
   "outputs": [
    {
     "name": "stdout",
     "output_type": "stream",
     "text": [
      "['alive' 'dead']\n"
     ]
    }
   ],
   "source": [
    "data_categorical = data.drop(columns=['age'])\n",
    "column_list = data_categorical.columns.to_numpy().tolist()\n",
    "class_labels = data_categorical[column_list[-1]].unique()\n",
    "\n",
    "print(class_labels)"
   ]
  },
  {
   "cell_type": "markdown",
   "metadata": {},
   "source": [
    "I will do each class separately, because the accuracy (and also coverage) for \"alive\" and \"dead\" is very different."
   ]
  },
  {
   "cell_type": "code",
   "execution_count": 4,
   "metadata": {},
   "outputs": [
    {
     "name": "stdout",
     "output_type": "stream",
     "text": [
      "--- deadly rules in 0 minutes ---\n",
      "If [renal_chronic=yes, diabetes=yes, cardiovascular=yes, obesity=no, sex=male, imm_supr=no, hypertension=yes, asthma=no] then dead. Coverage:70, accuracy: 0.6571428571428571\n",
      "If [renal_chronic=yes, diabetes=yes, obesity=no, copd=yes, tobacco=no, hypertension=yes, imm_supr=no, asthma=no, sex=female] then dead. Coverage:31, accuracy: 0.6129032258064516\n"
     ]
    }
   ],
   "source": [
    "import time\n",
    "from operator import attrgetter\n",
    "\n",
    "# first dead\n",
    "start_time = time.time()\n",
    "rules = learn_rules(column_list, data_categorical, [\"dead\"], 30, 0.6)\n",
    "print(\"--- deadly rules in %d minutes ---\" % ((time.time() - start_time) // 60))\n",
    "\n",
    "# sort rules by accuracy descending\n",
    "rules.sort(key=attrgetter('accuracy', 'coverage'), reverse=True)\n",
    "for rule in rules[:20]:\n",
    "    print(rule)"
   ]
  },
  {
   "cell_type": "code",
   "execution_count": 5,
   "metadata": {},
   "outputs": [
    {
     "name": "stdout",
     "output_type": "stream",
     "text": [
      "---alive  rules in 0 minutes ---\n",
      "If [hypertension=no, sex=female, diabetes=no, tobacco=yes, obesity=no, asthma=yes, copd=no, imm_supr=no, renal_chronic=no] then alive. Coverage:88, accuracy: 0.9886363636363636\n",
      "If [hypertension=no, sex=female, diabetes=no, tobacco=yes, obesity=no, copd=no, imm_supr=no, renal_chronic=no, asthma=no] then alive. Coverage:2351, accuracy: 0.9766056997022544\n",
      "If [hypertension=no, sex=female, diabetes=no, asthma=yes, obesity=no, imm_supr=no, copd=no, cardiovascular=no, tobacco=no] then alive. Coverage:1686, accuracy: 0.9673784104389087\n",
      "If [hypertension=no, sex=female, diabetes=no, obesity=no, copd=no, imm_supr=no, renal_chronic=no, cardiovascular=no, asthma=no, tobacco=no] then alive. Coverage:54563, accuracy: 0.9620255484485823\n",
      "If [hypertension=no, asthma=yes, diabetes=no, copd=no, imm_supr=no, sex=female, tobacco=no, obesity=yes] then alive. Coverage:531, accuracy: 0.9566854990583804\n",
      "If [asthma=yes, hypertension=no, obesity=yes, sex=male, tobacco=yes, renal_chronic=no] then alive. Coverage:62, accuracy: 0.9516129032258065\n",
      "If [hypertension=no, asthma=yes, diabetes=no, obesity=no, copd=no, imm_supr=no, renal_chronic=no, tobacco=no, cardiovascular=no, sex=male] then alive. Coverage:1161, accuracy: 0.9509043927648578\n",
      "If [hypertension=no, diabetes=no, sex=female, tobacco=yes, copd=no, cardiovascular=no, imm_supr=no, renal_chronic=no, obesity=yes] then alive. Coverage:882, accuracy: 0.9467120181405896\n",
      "If [hypertension=no, diabetes=no, sex=female, obesity=yes, copd=no, cardiovascular=no, imm_supr=no, renal_chronic=no, asthma=no, tobacco=no] then alive. Coverage:9803, accuracy: 0.9365500357033562\n",
      "If [hypertension=no, diabetes=no, obesity=no, tobacco=yes, copd=no, asthma=yes, imm_supr=no, sex=male] then alive. Coverage:103, accuracy: 0.9320388349514563\n",
      "If [hypertension=no, diabetes=no, obesity=no, tobacco=yes, copd=no, renal_chronic=no, imm_supr=no, cardiovascular=no, sex=male, asthma=no] then alive. Coverage:5921, accuracy: 0.9211281878061138\n",
      "If [asthma=yes, hypertension=no, obesity=yes, diabetes=no, sex=male, copd=no, renal_chronic=no, imm_supr=no, cardiovascular=no, tobacco=no] then alive. Coverage:312, accuracy: 0.9166666666666666\n",
      "If [asthma=yes, hypertension=no, cardiovascular=yes, tobacco=no] then alive. Coverage:60, accuracy: 0.9166666666666666\n",
      "If [hypertension=no, diabetes=no, obesity=no, copd=no, renal_chronic=no, imm_supr=no, cardiovascular=no, sex=male, asthma=no, tobacco=no] then alive. Coverage:63252, accuracy: 0.9117814456459875\n"
     ]
    }
   ],
   "source": [
    "# now alive\n",
    "start_time = time.time()\n",
    "rules = learn_rules(column_list, data_categorical, [\"alive\"], 60, 0.9)\n",
    "print(\"---alive  rules in %d minutes ---\" % ((time.time() - start_time)//60))\n",
    "\n",
    "# sort rules by accuracy descending\n",
    "rules.sort(key=attrgetter('accuracy', 'coverage'), reverse=True)\n",
    "for rule in rules[:20]:\n",
    "    print(rule)"
   ]
  },
  {
   "cell_type": "markdown",
   "metadata": {},
   "source": [
    "But age is probably a very important factor in determining COVID outcome.\n",
    "So we will repeat the experiment with age included (on the original data)."
   ]
  },
  {
   "cell_type": "code",
   "execution_count": 6,
   "metadata": {},
   "outputs": [],
   "source": [
    "data = pd.read_csv(data_file)\n",
    "data = data.dropna(how=\"any\")\n",
    "\n",
    "column_list = data.columns.to_numpy().tolist()"
   ]
  },
  {
   "cell_type": "code",
   "execution_count": 7,
   "metadata": {},
   "outputs": [
    {
     "name": "stdout",
     "output_type": "stream",
     "text": [
      "--- deadly rules with age in 1 minutes ---\n",
      "If [age>=78, renal_chronic=yes, diabetes=yes, tobacco=no, hypertension=yes, obesity=no, imm_supr=no, asthma=no] then dead. Coverage:40, accuracy: 0.7\n",
      "If [age>=80, renal_chronic=yes, diabetes=yes, hypertension=yes, sex=female, imm_supr=no, tobacco=no, asthma=no, cardiovascular=no] then dead. Coverage:36, accuracy: 0.6388888888888888\n",
      "If [age>=80, sex=male, obesity=yes, diabetes=yes, tobacco=no, imm_supr=no, cardiovascular=no, renal_chronic=no] then dead. Coverage:64, accuracy: 0.625\n",
      "If [age>=80, renal_chronic=yes, hypertension=yes, cardiovascular=no, sex=male, diabetes=no, obesity=no] then dead. Coverage:44, accuracy: 0.5909090909090909\n",
      "If [age>=80, sex=male, hypertension=yes, tobacco=no, copd=yes, diabetes=yes] then dead. Coverage:36, accuracy: 0.5833333333333334\n",
      "If [age>=80, sex=male, hypertension=yes, copd=no, diabetes=no, cardiovascular=yes, renal_chronic=no, obesity=no, tobacco=no, imm_supr=no] then dead. Coverage:81, accuracy: 0.5802469135802469\n",
      "If [age>=80, renal_chronic=yes, diabetes=yes, cardiovascular=yes] then dead. Coverage:33, accuracy: 0.5757575757575758\n",
      "If [age>=80, sex=male, hypertension=yes, cardiovascular=no, renal_chronic=yes, diabetes=yes, imm_supr=no, asthma=no] then dead. Coverage:42, accuracy: 0.5476190476190477\n",
      "If [age>=80, sex=male, hypertension=yes, copd=no, tobacco=yes, cardiovascular=no, diabetes=no, imm_supr=no] then dead. Coverage:63, accuracy: 0.5238095238095238\n",
      "If [age>=80, sex=male, hypertension=yes, cardiovascular=no, copd=no, tobacco=yes, diabetes=yes, asthma=no, imm_supr=no, renal_chronic=no] then dead. Coverage:49, accuracy: 0.5102040816326531\n",
      "If [age>=80, sex=male, hypertension=yes, cardiovascular=no, obesity=no, diabetes=no, copd=no, asthma=no, imm_supr=no, renal_chronic=no, tobacco=no] then dead. Coverage:524, accuracy: 0.5019083969465649\n"
     ]
    }
   ],
   "source": [
    "# first dead\n",
    "start_time = time.time()\n",
    "rules = learn_rules(column_list, data, [\"dead\"], 30, 0.5)\n",
    "print(\"--- deadly rules with age in %d minutes ---\" % ((time.time() - start_time) // 60))\n",
    "\n",
    "# sort rules by accuracy descending\n",
    "rules.sort(key=attrgetter('accuracy', 'coverage'), reverse=True)\n",
    "for rule in rules[:20]:\n",
    "    print(rule)"
   ]
  },
  {
   "cell_type": "code",
   "execution_count": 8,
   "metadata": {},
   "outputs": [
    {
     "name": "stdout",
     "output_type": "stream",
     "text": [
      "---alive  rules with age in 14 minutes ---\n",
      "If [age<29, hypertension=no, sex=female, tobacco=yes, imm_supr=no] then alive. Coverage:331, accuracy: 1.0\n",
      "If [age<26, asthma=yes, obesity=no, sex=female] then alive. Coverage:247, accuracy: 1.0\n",
      "If [age<36, hypertension=no, sex=female, obesity=no, imm_supr=no, diabetes=no, asthma=yes] then alive. Coverage:102, accuracy: 1.0\n",
      "If [age<30, hypertension=no, obesity=no, sex=female, imm_supr=no, tobacco=yes] then alive. Coverage:96, accuracy: 1.0\n",
      "If [age<26, tobacco=yes, sex=female, obesity=yes] then alive. Coverage:87, accuracy: 1.0\n",
      "If [age<30, obesity=yes, diabetes=no, sex=female, hypertension=yes] then alive. Coverage:84, accuracy: 1.0\n",
      "If [age<34, obesity=no, hypertension=no, sex=female, tobacco=yes, imm_supr=no] then alive. Coverage:363, accuracy: 0.9972451790633609\n",
      "If [age<26, tobacco=yes, obesity=no, hypertension=no, renal_chronic=no, imm_supr=no, sex=male] then alive. Coverage:703, accuracy: 0.9971550497866287\n",
      "If [age<26, tobacco=yes, sex=female, hypertension=no, copd=no, imm_supr=no, obesity=no] then alive. Coverage:287, accuracy: 0.9965156794425087\n",
      "If [age<37, sex=female, hypertension=no, obesity=no, tobacco=yes, diabetes=no, imm_supr=no, copd=no, renal_chronic=no] then alive. Coverage:265, accuracy: 0.9962264150943396\n",
      "If [age<30, hypertension=no, obesity=no, sex=female, imm_supr=no, diabetes=no, renal_chronic=no, cardiovascular=no, asthma=no, tobacco=no] then alive. Coverage:6100, accuracy: 0.9959016393442623\n",
      "If [age<26, hypertension=no, sex=female, imm_supr=no, obesity=no, diabetes=no, renal_chronic=no, cardiovascular=no, asthma=no, tobacco=no] then alive. Coverage:7773, accuracy: 0.9949826321883443\n",
      "If [age<36, hypertension=no, sex=female, obesity=no, imm_supr=no, diabetes=no, renal_chronic=no, cardiovascular=no, copd=no, asthma=no, tobacco=no] then alive. Coverage:3162, accuracy: 0.9939911448450348\n",
      "If [age<30, sex=male, obesity=no, tobacco=yes, imm_supr=no, renal_chronic=no, hypertension=no, asthma=no] then alive. Coverage:716, accuracy: 0.9930167597765364\n",
      "If [age<30, sex=male, obesity=no, asthma=yes, renal_chronic=no] then alive. Coverage:414, accuracy: 0.9927536231884058\n",
      "If [age<34, hypertension=no, diabetes=no, imm_supr=no, obesity=no, renal_chronic=no, asthma=yes, copd=no, sex=male, tobacco=no] then alive. Coverage:136, accuracy: 0.9926470588235294\n",
      "If [age<34, obesity=no, hypertension=no, sex=female, imm_supr=no, diabetes=no, renal_chronic=no, cardiovascular=no, copd=no, asthma=no, tobacco=no] then alive. Coverage:6537, accuracy: 0.9925042068227016\n",
      "If [age<40, diabetes=no, sex=female, tobacco=yes, hypertension=no, obesity=no, imm_supr=no, copd=no, cardiovascular=no] then alive. Coverage:256, accuracy: 0.9921875\n",
      "If [age<38, sex=female, diabetes=no, hypertension=no, obesity=no, imm_supr=no, asthma=yes, copd=no, renal_chronic=no] then alive. Coverage:123, accuracy: 0.991869918699187\n",
      "If [age<38, sex=female, diabetes=no, hypertension=no, imm_supr=no, obesity=no, renal_chronic=no, cardiovascular=no, copd=no, tobacco=no, asthma=no] then alive. Coverage:3150, accuracy: 0.9911111111111112\n"
     ]
    }
   ],
   "source": [
    "# now alive\n",
    "start_time = time.time()\n",
    "rules = learn_rules(column_list, data, [\"alive\"], 60, 0.9)\n",
    "print(\"---alive  rules with age in %d minutes ---\" % ((time.time() - start_time)//60))\n",
    "\n",
    "# sort rules by accuracy descending\n",
    "rules.sort(key=attrgetter('accuracy', 'coverage'), reverse=True)\n",
    "for rule in rules[:20]:\n",
    "    print(rule)"
   ]
  },
  {
   "cell_type": "markdown",
   "metadata": {},
   "source": [
    "It does seem that age plays the most important role in defining COVID outcomes. Also the tobacco use seems to help young people survive."
   ]
  },
  {
   "cell_type": "markdown",
   "metadata": {},
   "source": [
    "Copyright &copy; 2022 Marina Barsky. All rights reserved."
   ]
  }
 ],
 "metadata": {
  "kernelspec": {
   "display_name": "Python 3",
   "language": "python",
   "name": "python3"
  },
  "language_info": {
   "codemirror_mode": {
    "name": "ipython",
    "version": 3
   },
   "file_extension": ".py",
   "mimetype": "text/x-python",
   "name": "python",
   "nbconvert_exporter": "python",
   "pygments_lexer": "ipython3",
   "version": "3.8.3"
  }
 },
 "nbformat": 4,
 "nbformat_minor": 4
}
